{
  "nbformat": 4,
  "nbformat_minor": 0,
  "metadata": {
    "colab": {
      "provenance": [],
      "authorship_tag": "ABX9TyNVkHQvxTwIEMwnl8x1BuIx",
      "include_colab_link": true
    },
    "kernelspec": {
      "name": "python3",
      "display_name": "Python 3"
    },
    "language_info": {
      "name": "python"
    }
  },
  "cells": [
    {
      "cell_type": "markdown",
      "metadata": {
        "id": "view-in-github",
        "colab_type": "text"
      },
      "source": [
        "<a href=\"https://colab.research.google.com/github/pumazzo/corso_AML_2025/blob/main/AML_2025_MONAI_data_augmentation.ipynb\" target=\"_parent\"><img src=\"https://colab.research.google.com/assets/colab-badge.svg\" alt=\"Open In Colab\"/></a>"
      ]
    },
    {
      "cell_type": "code",
      "execution_count": null,
      "metadata": {
        "colab": {
          "base_uri": "https://localhost:8080/"
        },
        "id": "9wAlw6KYG0G0",
        "outputId": "073368ae-bc65-45c9-ca19-6d59c762ab62"
      },
      "outputs": [
        {
          "output_type": "stream",
          "name": "stdout",
          "text": [
            "\u001b[2K   \u001b[90m━━━━━━━━━━━━━━━━━━━━━━━━━━━━━━━━━━━━━━━━\u001b[0m \u001b[32m266.5/266.5 kB\u001b[0m \u001b[31m7.0 MB/s\u001b[0m eta \u001b[36m0:00:00\u001b[0m\n",
            "\u001b[2K   \u001b[90m━━━━━━━━━━━━━━━━━━━━━━━━━━━━━━━━━━━━━━━━\u001b[0m \u001b[32m363.4/363.4 MB\u001b[0m \u001b[31m3.9 MB/s\u001b[0m eta \u001b[36m0:00:00\u001b[0m\n",
            "\u001b[2K   \u001b[90m━━━━━━━━━━━━━━━━━━━━━━━━━━━━━━━━━━━━━━━━\u001b[0m \u001b[32m13.8/13.8 MB\u001b[0m \u001b[31m46.6 MB/s\u001b[0m eta \u001b[36m0:00:00\u001b[0m\n",
            "\u001b[2K   \u001b[90m━━━━━━━━━━━━━━━━━━━━━━━━━━━━━━━━━━━━━━━━\u001b[0m \u001b[32m24.6/24.6 MB\u001b[0m \u001b[31m44.0 MB/s\u001b[0m eta \u001b[36m0:00:00\u001b[0m\n",
            "\u001b[2K   \u001b[90m━━━━━━━━━━━━━━━━━━━━━━━━━━━━━━━━━━━━━━━━\u001b[0m \u001b[32m883.7/883.7 kB\u001b[0m \u001b[31m29.2 MB/s\u001b[0m eta \u001b[36m0:00:00\u001b[0m\n",
            "\u001b[2K   \u001b[90m━━━━━━━━━━━━━━━━━━━━━━━━━━━━━━━━━━━━━━━━\u001b[0m \u001b[32m664.8/664.8 MB\u001b[0m \u001b[31m2.9 MB/s\u001b[0m eta \u001b[36m0:00:00\u001b[0m\n",
            "\u001b[2K   \u001b[90m━━━━━━━━━━━━━━━━━━━━━━━━━━━━━━━━━━━━━━━━\u001b[0m \u001b[32m211.5/211.5 MB\u001b[0m \u001b[31m5.2 MB/s\u001b[0m eta \u001b[36m0:00:00\u001b[0m\n",
            "\u001b[2K   \u001b[90m━━━━━━━━━━━━━━━━━━━━━━━━━━━━━━━━━━━━━━━━\u001b[0m \u001b[32m56.3/56.3 MB\u001b[0m \u001b[31m13.0 MB/s\u001b[0m eta \u001b[36m0:00:00\u001b[0m\n",
            "\u001b[2K   \u001b[90m━━━━━━━━━━━━━━━━━━━━━━━━━━━━━━━━━━━━━━━━\u001b[0m \u001b[32m127.9/127.9 MB\u001b[0m \u001b[31m7.3 MB/s\u001b[0m eta \u001b[36m0:00:00\u001b[0m\n",
            "\u001b[2K   \u001b[90m━━━━━━━━━━━━━━━━━━━━━━━━━━━━━━━━━━━━━━━━\u001b[0m \u001b[32m207.5/207.5 MB\u001b[0m \u001b[31m7.7 MB/s\u001b[0m eta \u001b[36m0:00:00\u001b[0m\n",
            "\u001b[2K   \u001b[90m━━━━━━━━━━━━━━━━━━━━━━━━━━━━━━━━━━━━━━━━\u001b[0m \u001b[32m21.1/21.1 MB\u001b[0m \u001b[31m69.8 MB/s\u001b[0m eta \u001b[36m0:00:00\u001b[0m\n",
            "\u001b[2K   \u001b[90m━━━━━━━━━━━━━━━━━━━━━━━━━━━━━━━━━━━━━━━━\u001b[0m \u001b[32m2.6/2.6 MB\u001b[0m \u001b[31m74.3 MB/s\u001b[0m eta \u001b[36m0:00:00\u001b[0m\n",
            "\u001b[?25h"
          ]
        }
      ],
      "source": [
        "!pip install -q \"monai-weekly[gdown, nibabel, tqdm, ignite]\""
      ]
    },
    {
      "cell_type": "markdown",
      "source": [
        "This notebook is derived from the MONAI tutorials page\n",
        "https://github.com/Project-MONAI/tutorials\n",
        "\n",
        "This page is full of great resources. If you are interested in AI/ML application to mediacal images, check it out!\n",
        "\n",
        "Copyright (c) MONAI Consortium  \n",
        "Licensed under the Apache License, Version 2.0 (the \"License\");  \n",
        "\n",
        "# MONAI TRANSFORM Overview\n",
        "\n",
        "This notebook introduces you MONAI's transformation module for 3D images."
      ],
      "metadata": {
        "id": "uwY1y_NqG9Wc"
      }
    },
    {
      "cell_type": "code",
      "source": [
        "from monai.transforms import (\n",
        "    EnsureChannelFirstd,\n",
        "    LoadImage,\n",
        "    LoadImaged,\n",
        "    Orientationd,\n",
        "    Rand3DElasticd,\n",
        "    RandAffined,\n",
        "    Spacingd,\n",
        ")\n",
        "from monai.config import print_config\n",
        "from monai.apps import download_and_extract\n",
        "import numpy as np\n",
        "import matplotlib.pyplot as plt\n",
        "import tempfile\n",
        "import shutil\n",
        "import os\n",
        "import glob\n",
        "\n",
        "print_config()\n",
        "directory = None\n",
        "if directory is not None:\n",
        "    os.makedirs(directory, exist_ok=True)\n",
        "root_dir = tempfile.mkdtemp() if directory is None else directory\n",
        "print(f\"root dir is: {root_dir}\")\n",
        "resource = \"https://msd-for-monai.s3-us-west-2.amazonaws.com/Task09_Spleen.tar\"\n",
        "md5 = \"410d4a301da4e5b2f6f86ec3ddba524e\"\n",
        "\n",
        "compressed_file = os.path.join(root_dir, \"Task09_Spleen.tar\")\n",
        "data_dir = os.path.join(root_dir, \"Task09_Spleen\")\n",
        "if not os.path.exists(data_dir):\n",
        "    download_and_extract(resource, compressed_file, root_dir, md5)"
      ],
      "metadata": {
        "colab": {
          "base_uri": "https://localhost:8080/"
        },
        "id": "bz63hYR7HGBF",
        "outputId": "13981221-6800-462e-dbb0-0ed43ad2c357"
      },
      "execution_count": null,
      "outputs": [
        {
          "output_type": "stream",
          "name": "stdout",
          "text": [
            "MONAI version: 1.5.dev2512\n",
            "Numpy version: 2.0.2\n",
            "Pytorch version: 2.6.0+cu124\n",
            "MONAI flags: HAS_EXT = False, USE_COMPILED = False, USE_META_DICT = False\n",
            "MONAI rev id: e4701e24c97d1f8c7ba40777c238cdfe14b04581\n",
            "MONAI __file__: /usr/local/lib/python3.11/dist-packages/monai/__init__.py\n",
            "\n",
            "Optional dependencies:\n",
            "Pytorch Ignite version: 0.4.11\n",
            "ITK version: NOT INSTALLED or UNKNOWN VERSION.\n",
            "Nibabel version: 5.3.2\n",
            "scikit-image version: 0.25.2\n",
            "scipy version: 1.14.1\n",
            "Pillow version: 11.1.0\n",
            "Tensorboard version: 2.18.0\n",
            "gdown version: 5.2.0\n",
            "TorchVision version: 0.21.0+cu124\n",
            "tqdm version: 4.67.1\n",
            "lmdb version: NOT INSTALLED or UNKNOWN VERSION.\n",
            "psutil version: 5.9.5\n",
            "pandas version: 2.2.2\n",
            "einops version: 0.8.1\n",
            "transformers version: 4.50.0\n",
            "mlflow version: NOT INSTALLED or UNKNOWN VERSION.\n",
            "pynrrd version: NOT INSTALLED or UNKNOWN VERSION.\n",
            "clearml version: NOT INSTALLED or UNKNOWN VERSION.\n",
            "\n",
            "For details about installing the optional dependencies, please visit:\n",
            "    https://docs.monai.io/en/latest/installation.html#installing-the-recommended-dependencies\n",
            "\n",
            "root dir is: /tmp/tmp136nls6s\n"
          ]
        },
        {
          "output_type": "stream",
          "name": "stderr",
          "text": [
            "Task09_Spleen.tar: 1.50GB [00:45, 35.5MB/s]                            "
          ]
        },
        {
          "output_type": "stream",
          "name": "stdout",
          "text": [
            "2025-03-26 16:15:22,835 - INFO - Downloaded: /tmp/tmp136nls6s/Task09_Spleen.tar\n"
          ]
        },
        {
          "output_type": "stream",
          "name": "stderr",
          "text": [
            "\n"
          ]
        },
        {
          "output_type": "stream",
          "name": "stdout",
          "text": [
            "2025-03-26 16:15:27,071 - INFO - Verified 'Task09_Spleen.tar', md5: 410d4a301da4e5b2f6f86ec3ddba524e.\n",
            "2025-03-26 16:15:27,071 - INFO - Writing into directory: /tmp/tmp136nls6s.\n"
          ]
        }
      ]
    },
    {
      "cell_type": "markdown",
      "source": [
        "## Load the NIfTI files\n",
        "\n",
        "One design choice of MONAI is that it provides not only the high-level workflow components,\n",
        "but also relatively lower level APIs in their minimal functioning form.\n",
        "\n",
        "For example, a `LoadImage` class is a simple callable wrapper of the underlying `Nibabel` image loader.\n",
        "After constructing the loader with a few necessary system parameters,\n",
        "calling the loader instance with a `NIfTI` filename will return the image data arrays,\n",
        "as well as the metadata -- such as affine information and voxel sizes.\n",
        "\n",
        "## Load the NIfTI files\n",
        "\n",
        "One design choice of MONAI is that it provides not only the high-level workflow components,\n",
        "but also relatively lower level APIs in their minimal functioning form.\n",
        "\n",
        "For example, a `LoadImage` class is a simple callable wrapper of the underlying `Nibabel` image loader.\n",
        "After constructing the loader with a few necessary system parameters,\n",
        "calling the loader instance with a `NIfTI` filename will return the image data arrays,\n",
        "as well as the metadata -- such as affine information and voxel sizes."
      ],
      "metadata": {
        "id": "Ikl71v5ROtCC"
      }
    },
    {
      "cell_type": "code",
      "source": [
        "train_images = sorted(glob.glob(os.path.join(data_dir, \"imagesTr\", \"*.nii.gz\")))\n",
        "train_labels = sorted(glob.glob(os.path.join(data_dir, \"labelsTr\", \"*.nii.gz\")))\n",
        "data_dicts = [{\"image\": image_name, \"label\": label_name} for image_name, label_name in zip(train_images, train_labels)]\n",
        "train_data_dicts, val_data_dicts = data_dicts[:-9], data_dicts[-9:]"
      ],
      "metadata": {
        "id": "VTBX_iMcOYPM"
      },
      "execution_count": null,
      "outputs": []
    },
    {
      "cell_type": "code",
      "source": [
        "# use LoadImage\n",
        "#use keys\n",
        "#output is a dictionary"
      ],
      "metadata": {
        "id": "w_RZziOSOfCB"
      },
      "execution_count": null,
      "outputs": []
    },
    {
      "cell_type": "markdown",
      "source": [
        "## Ensure the first dimension is channel\n",
        "\n",
        "Most of MONAI's image transformations assume that the input data has the shape:  \n",
        "`[num_channels, spatial_dim_1, spatial_dim_2, ... ,spatial_dim_n]`  \n",
        "so that they could be interpreted consistently (as \"channel-first\" is commonly used in PyTorch).  \n",
        "Here the input image has shape `(512, 512, 55)` which isn't in the acceptable shape (missing the channel dimension),  \n",
        "we therefore create a transform which is called to update the shape:\n",
        "\n",
        "## Reorientation to a designated axes codes\n",
        "\n",
        "Sometimes it is nice to have all the input volumes in a consistent axes orientation.  \n",
        "The default axis labels are Left (L), Right (R), Posterior (P), Anterior (A), Inferior (I), Superior (S).  \n",
        "The following transform is created to reorientate the volumes to have 'Posterior, Left, Inferior' (PLI) orientation (To ensure the spatial axes are processed consistently across the subjects, this orientation transform should be put before any anisotropic spatial transforms):\n",
        "\n",
        "## Resample to a consistent voxel size\n",
        "\n",
        "The input volumes might have different voxel sizes.\n",
        "The following transform is created to normalise the volumes to have (1.5, 1.5, 5.) millimetre voxel size.\n",
        "The transform is set to read the original voxel size information from data_dict['image'].affine,\n",
        "which is from the corresponding NIfTI file, loaded earlier by LoadImaged."
      ],
      "metadata": {
        "id": "OAIdnev-P8QP"
      }
    },
    {
      "cell_type": "code",
      "source": [],
      "metadata": {
        "id": "9g-S0Jp_PleY"
      },
      "execution_count": null,
      "outputs": []
    }
  ]
}