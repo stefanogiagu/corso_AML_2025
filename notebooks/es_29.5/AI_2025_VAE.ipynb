{
  "nbformat": 4,
  "nbformat_minor": 0,
  "metadata": {
    "colab": {
      "provenance": [],
      "gpuType": "T4",
      "include_colab_link": true
    },
    "kernelspec": {
      "name": "python3",
      "display_name": "Python 3"
    },
    "accelerator": "GPU"
  },
  "cells": [
    {
      "cell_type": "markdown",
      "metadata": {
        "id": "view-in-github",
        "colab_type": "text"
      },
      "source": [
        "<a href=\"https://colab.research.google.com/github/stefanogiagu/corso_AML_2025/blob/main/notebooks/es_29.5/AI_2025_VAE.ipynb\" target=\"_parent\"><img src=\"https://colab.research.google.com/assets/colab-badge.svg\" alt=\"Open In Colab\"/></a>"
      ]
    },
    {
      "cell_type": "markdown",
      "source": [
        "# Modelli generativi basati su VAE\n",
        "\n",
        "scopo: familiarizzare con la progettazione e l'uso di archietture generative basate su VAE\n",
        "DL tool: pytorch\n",
        "\n",
        "### tasks ###\n",
        "\n",
        "1.   implementazione di una beta-VAE (eg una VAE con un iperparametro che controlla il peso relativo del termine di divergenza rispetto al termine di ricostruzione nella loss per la generazione di immagini realistiche\n",
        "\n",
        "\n",
        "Referenze:\n",
        "\n",
        "*   [VAE](https://arxiv.org/abs/1312.6114) e [beta-VAE](https://openreview.net/forum?id=Sy2fzU9gl)\n",
        "\n",
        "\n",
        "\n",
        "**Datasets:**\n",
        "\n",
        "*  [fashion-MNIST](https://pytorch.org/vision/stable/generated/torchvision.datasets.FashionMNIST.html#torchvision.datasets.FashionMNIST)\n",
        "\n"
      ],
      "metadata": {
        "id": "8ix-CMEfVfV2"
      }
    },
    {
      "cell_type": "code",
      "metadata": {
        "id": "fxsEpzXeKlYg",
        "colab": {
          "base_uri": "https://localhost:8080/"
        },
        "outputId": "423fd705-ff92-41e3-a855-2e32cc909b5d"
      },
      "source": [
        "# import delle librerie\n",
        "import numpy as np\n",
        "import matplotlib.pyplot as plt\n",
        "\n",
        "# pytorch\n",
        "import torch\n",
        "import torchvision\n",
        "\n",
        "print(torch.__version__)\n",
        "print(torchvision.__version__)\n",
        "\n",
        "from torch import nn\n",
        "import torch.nn.functional as F"
      ],
      "execution_count": null,
      "outputs": [
        {
          "output_type": "stream",
          "name": "stdout",
          "text": [
            "2.3.0+cu121\n",
            "0.18.0+cu121\n"
          ]
        }
      ]
    },
    {
      "cell_type": "markdown",
      "source": [
        "il dataset FashionMNIST è costituito da immagini di icone di oggetti di viestiario corrispondenti a 60k immagini per il training e 10k immagini per il test.\n",
        "\n",
        "Ogni immagine ha dimensione $(28,28)$ pixel, con un canale di intensità (scala di grigi) a 8 bit (valori di intensità di ogni pixel $\\in [0,256]$).\n",
        "\n",
        "È disponibile in varie librerie per il ML (scikit-learn, torch, tensorflow, librerie esterne...). Prendendo il dataset già disponibile in pytorch possiamo sfruttare il vantaggio di di avere conversioni automatiche in tensori torch e normalizzazioni. Leggendo il dataset da un input esterno, come per esempio fatto nell'esercitazione su PCA prendendolo da openm, in formato di ndarray numpy, dovremo convertire noi i vettori in tensori torch e normalizzarli, ma risulterà più chiaro come usare in generale datset esterni. in questo hands-on utilizzeremo questo secondo approccio."
      ],
      "metadata": {
        "id": "EAGMqoujgjzE"
      }
    },
    {
      "cell_type": "code",
      "source": [
        "# lettura del dataset Fashion-MNIST da openml usando la libreria sklearn\n",
        "# label:\n",
        "# 0 T-shirt/top\n",
        "# 1 Trouser\n",
        "# 2 Pullover\n",
        "# 3 Dress\n",
        "# 4 Coat\n",
        "# 5 Sandal\n",
        "# 6 Shirt\n",
        "# 7 Sneaker\n",
        "# 8 Bag\n",
        "# 9 Ankle boot\n",
        "\n",
        "from sklearn.datasets import fetch_openml\n",
        "\n",
        "images, labels = fetch_openml(\"Fashion-MNIST\", version=1, return_X_y=True, as_frame=False, parser=\"pandas\")\n",
        "labels = labels.astype(int) # converte le label in int\n",
        "\n",
        "print(images.shape)\n",
        "print(labels.shape)"
      ],
      "metadata": {
        "colab": {
          "base_uri": "https://localhost:8080/"
        },
        "id": "3uigwnUjOW3i",
        "outputId": "aed6b311-7be6-4bb5-d4f7-484c86f7f6fd"
      },
      "execution_count": null,
      "outputs": [
        {
          "output_type": "stream",
          "name": "stdout",
          "text": [
            "(70000, 784)\n",
            "(70000,)\n"
          ]
        }
      ]
    },
    {
      "cell_type": "code",
      "source": [
        "# grafichiamo 9 immagini random\n",
        "figure = plt.figure(figsize=(5, 4))\n",
        "cols, rows = 3,3\n",
        "for i in range(1, cols * rows + 1):\n",
        "    sample_idx = np.random.randint(len(images))\n",
        "    img, label = images[sample_idx], labels[sample_idx]\n",
        "    figure.add_subplot(rows, cols, i)\n",
        "    plt.title(label)\n",
        "    plt.axis(\"off\")\n",
        "    plt.imshow(img.reshape((28,28)), cmap=\"gray\")\n",
        "plt.show()"
      ],
      "metadata": {
        "colab": {
          "base_uri": "https://localhost:8080/",
          "height": 367
        },
        "id": "PdNlVOCEguAw",
        "outputId": "854e22fd-43cf-4c6d-cd0d-083310d070f0"
      },
      "execution_count": null,
      "outputs": [
        {
          "output_type": "display_data",
          "data": {
            "text/plain": [
              "<Figure size 500x400 with 9 Axes>"
            ],
            "image/png": "[encoded data removed]"
          },
          "metadata": {}
        }
      ]
    },
    {
      "cell_type": "code",
      "source": [
        "# splitting del campione in training e test (80:20)\n",
        "\n",
        "from sklearn.model_selection import train_test_split\n",
        "\n",
        "X_train, X_test, Y_train, Y_test = train_test_split(images, labels, test_size=0.2, shuffle=True, random_state=12345)\n",
        "\n",
        "print(X_train.shape)\n",
        "print(Y_train.shape)\n",
        "print(X_test.shape)\n",
        "print(Y_test.shape)"
      ],
      "metadata": {
        "colab": {
          "base_uri": "https://localhost:8080/"
        },
        "id": "LVpGJ3aSgz63",
        "outputId": "07426138-435c-4bd7-ff75-3b5e12720951"
      },
      "execution_count": null,
      "outputs": [
        {
          "output_type": "stream",
          "name": "stdout",
          "text": [
            "(56000, 784)\n",
            "(56000,)\n",
            "(14000, 784)\n",
            "(14000,)\n"
          ]
        }
      ]
    },
    {
      "cell_type": "code",
      "source": [
        "# le immagini Fashion-MNIST sono immagini in scala di grigio a 8 bit, ogni pixel assume valore [0,255], quindi per\n",
        "# normalizzare in [0,1] basta solo divider tutte le immagini per 255\n",
        "\n",
        "X_train_norm = X_train / 255.\n",
        "X_test_norm  = X_test / 255."
      ],
      "metadata": {
        "id": "QSTJCiwrg-bh"
      },
      "execution_count": null,
      "outputs": []
    },
    {
      "cell_type": "code",
      "source": [
        "# per questa esercitazione è consigliabile usare una GPU\n",
        "# controlliamo se la GPU è disponibile e nel caso quale tipo di GPU\n",
        "if torch.cuda.is_available():\n",
        "  print('Numero di GPU disponibili: ',torch.cuda.device_count())\n",
        "  for i in range(0,torch.cuda.device_count()):\n",
        "    print(torch.cuda.get_device_name(i))\n",
        "\n",
        "# se la GPU è disponibile setto device='cuda', altrimenti 'cpu\n",
        "device = ('cuda' if torch.cuda.is_available() else 'cpu')\n",
        "print(f\"Computation device: {device}\\n\")"
      ],
      "metadata": {
        "id": "JV4zTLvwSEAJ",
        "colab": {
          "base_uri": "https://localhost:8080/"
        },
        "outputId": "bfda14ff-ec19-4dd2-8396-b4221b83e919"
      },
      "execution_count": null,
      "outputs": [
        {
          "output_type": "stream",
          "name": "stdout",
          "text": [
            "Numero di GPU disponibili:  1\n",
            "Tesla T4\n",
            "Computation device: cuda\n",
            "\n"
          ]
        }
      ]
    },
    {
      "cell_type": "code",
      "source": [
        "# conversione in tensori torch dei vettori numpy\n",
        "\n",
        "X_train_pt = torch.Tensor(X_train_norm).float()\n",
        "Y_train_pt = torch.Tensor(Y_train).int()\n",
        "X_test_pt = torch.Tensor(X_test_norm).float()\n",
        "Y_test_pt = torch.Tensor(Y_test).int()\n",
        "\n",
        "# reshape the tensori da (n,784) a (n,1,28,28) come richiesto da conv layer in pytorch\n",
        "\n",
        "X_train_pt = X_train_pt.view((X_train_pt.shape[0],1,28,28))\n",
        "X_test_pt = X_test_pt.view((X_test_pt.shape[0],1,28,28))\n",
        "\n",
        "print(X_train_pt.shape)\n",
        "print(Y_train_pt.shape)\n",
        "print(X_test_pt.shape)\n",
        "print(Y_test_pt.shape)"
      ],
      "metadata": {
        "colab": {
          "base_uri": "https://localhost:8080/"
        },
        "id": "QdqZJrGwhJrX",
        "outputId": "2445a127-b9a1-4277-f763-f8e90272c84b"
      },
      "execution_count": null,
      "outputs": [
        {
          "output_type": "stream",
          "name": "stdout",
          "text": [
            "torch.Size([56000, 1, 28, 28])\n",
            "torch.Size([56000])\n",
            "torch.Size([14000, 1, 28, 28])\n",
            "torch.Size([14000])\n"
          ]
        }
      ]
    },
    {
      "cell_type": "code",
      "source": [
        "# dataset e dataloaders\n",
        "\n",
        "batch_size = 128\n",
        "\n",
        "from torch.utils.data import TensorDataset, DataLoader\n",
        "\n",
        "dataset_train = TensorDataset(X_train_pt, Y_train_pt)\n",
        "train_dl = DataLoader(dataset_train, batch_size=batch_size, shuffle=True, num_workers=1, drop_last=True)\n",
        "\n",
        "dataset_test = TensorDataset(X_test_pt, Y_test_pt)\n",
        "test_dl = DataLoader(dataset_test, batch_size=1, shuffle=True, num_workers=1, drop_last=True)"
      ],
      "metadata": {
        "id": "f-PryoJkSWZX"
      },
      "execution_count": null,
      "outputs": []
    },
    {
      "cell_type": "markdown",
      "source": [
        "### Definzione del modello di rete neurale.\n",
        "\n",
        "Architettura: VAE convoluzionale con encoder costituito da 2 layer convoluzionali 2D con kernel_size 4 e stride 2 (per comprimere le rappresentazioni), decoder costituito da ConvTranspose2D. Lo spazio latente z è costituito da un layer denso. Usiamo attivazioni ReLu nella parte convoluzionale e sigmoide nell'output in modo da allenare il modello con BCE come reconstruction loss + KL-divergence come regolarizzatore"
      ],
      "metadata": {
        "id": "3Z42_INRiiMK"
      }
    },
    {
      "cell_type": "code",
      "source": [
        "# Convolutional Encoder Model\n",
        "\n",
        "class Encoder(nn.Module):\n",
        "    def __init__(self, hidden_channels=64, latent_dim=2):\n",
        "        super().__init__()\n",
        "\n",
        "       ######\n",
        "\n",
        "    def forward(self, x):\n",
        "\n",
        "        ########\n",
        "\n",
        "        return x_mu, x_logvar"
      ],
      "metadata": {
        "id": "7o5rmJCFTD_q"
      },
      "execution_count": null,
      "outputs": []
    },
    {
      "cell_type": "code",
      "source": [
        "# Convolutional Decoder Model\n",
        "\n",
        "class Decoder(nn.Module):\n",
        "    def __init__(self, hidden_channels=64, latent_dim=2):\n",
        "        super().__init__()\n",
        "        self.hidden_channels = hidden_channels\n",
        "\n",
        "        self.fc = nn.Linear(in_features=latent_dim,\n",
        "                            out_features=hidden_channels*2*7*7)\n",
        "\n",
        "        self.conv2 = nn.ConvTranspose2d(in_channels=hidden_channels*2,\n",
        "                                        out_channels=hidden_channels,\n",
        "                                        kernel_size=4,\n",
        "                                        stride=2,\n",
        "                                        padding=1)\n",
        "        self.conv1 = nn.ConvTranspose2d(in_channels=hidden_channels,\n",
        "                                        out_channels=1,\n",
        "                                        kernel_size=4,\n",
        "                                        stride=2,\n",
        "                                        padding=1)\n",
        "\n",
        "        self.activation = nn.ReLU()\n",
        "\n",
        "\n",
        "    def forward(self, x):\n",
        "        x = self.fc(x)\n",
        "        x = x.view(x.size(0), self.hidden_channels*2, 7, 7)\n",
        "        x = self.activation(self.conv2(x))\n",
        "        out = torch.sigmoid(self.conv1(x)) # final activation sigmoid (works with BCELoss as reconstruction loss)\n",
        "        return out"
      ],
      "metadata": {
        "id": "Ts3oU_JQUpcy"
      },
      "execution_count": null,
      "outputs": []
    },
    {
      "cell_type": "code",
      "source": [
        "# Full VAE/AE Model\n",
        "\n"
      ],
      "metadata": {
        "id": "sKqTgznXVKiV"
      },
      "execution_count": null,
      "outputs": []
    },
    {
      "cell_type": "markdown",
      "source": [],
      "metadata": {
        "id": "9lmX93fnwzdJ"
      }
    }
  ]
}